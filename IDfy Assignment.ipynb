{
 "cells": [
  {
   "cell_type": "code",
   "execution_count": 1,
   "metadata": {},
   "outputs": [],
   "source": [
    "import pandas as pd\n",
    "import numpy as np\n",
    "import cv2\n",
    "import matplotlib.pyplot as plt\n",
    "import PIL\n",
    "from PIL import Image, ImageEnhance, ImageFilter\n",
    "import time"
   ]
  },
  {
   "cell_type": "code",
   "execution_count": 2,
   "metadata": {},
   "outputs": [],
   "source": [
    "MIN_CONTOUR_AREA = 100    # minimum area for contour to be considered\n",
    "MAX_CONTOUR_AREA = 850   # maximum area to be considered\n",
    "MASK_CONTOUR = 900        # cropping only the license plate and removing other noise\n",
    "threshold = 170           # image thresholding\n",
    "\n",
    "RESIZED_IMAGE_WIDTH = 200\n",
    "RESIZED_IMAGE_HEIGHT = 80"
   ]
  },
  {
   "cell_type": "code",
   "execution_count": 3,
   "metadata": {},
   "outputs": [
    {
     "name": "stdout",
     "output_type": "stream",
     "text": [
      "['crop_m1/I00000.png', 'crop_h1/I00000.png', 'crop_m1/I00001.png', 'crop_h1/I00001.png', 'crop_m1/I00002.png', 'crop_h1/I00002.png', 'crop_m1/I00003.png', 'crop_h1/I00003.png', 'crop_m2/I00000.png', 'crop_h2/I00000.png']\n"
     ]
    }
   ],
   "source": [
    "dataset = pd.read_csv('dataset.csv', names=[\"Path\",\"Plate Number\"])\n",
    "\n",
    "def file_path(dataset):\n",
    "    images = []\n",
    "    for i in range(10):\n",
    "        images.append(dataset[\"Path\"][i])\n",
    "    return images\n",
    "\n",
    "images = file_path(dataset)\n",
    "print(images)"
   ]
  },
  {
   "cell_type": "code",
   "execution_count": 4,
   "metadata": {},
   "outputs": [],
   "source": [
    "def get_image(image):\n",
    "    imgTrainingNumbers = cv2.imread(image)\n",
    "    return imgTrainingNumbers"
   ]
  },
  {
   "cell_type": "code",
   "execution_count": 5,
   "metadata": {},
   "outputs": [],
   "source": [
    "def preprocessing(image):\n",
    "    gray_image = cv2.cvtColor(image,cv2.COLOR_BGR2GRAY)\n",
    "    blur_image = cv2.GaussianBlur(gray_image,(5,5),0)\n",
    "    imgThresh = cv2.adaptiveThreshold(blur_image,255,cv2.ADAPTIVE_THRESH_GAUSSIAN_C,cv2.THRESH_BINARY_INV,11,2)\n",
    "    #canny_edges = cv2.Canny(blur_image, 70, 150)\n",
    "    return imgThresh"
   ]
  },
  {
   "cell_type": "code",
   "execution_count": 6,
   "metadata": {},
   "outputs": [],
   "source": [
    "def initialize_params(RESIZED_IMAGE_WIDTH, RESIZED_IMAGE_HEIGHT):\n",
    "    dim = (RESIZED_IMAGE_WIDTH, RESIZED_IMAGE_HEIGHT)\n",
    "    intClassifications = []         # declare empty classifications list\n",
    "\n",
    "    intValidChars = [ord('0'), ord('1'), ord('2'), ord('3'), ord('4'), ord('5'), ord('6'), ord('7'), ord('8'), ord('9'),\n",
    "                     ord('A'), ord('B'), ord('C'), ord('D'), ord('E'), ord('F'), ord('G'), ord('H'), ord('I'), ord('J'),\n",
    "                     ord('K'), ord('L'), ord('M'), ord('N'), ord('O'), ord('P'), ord('Q'), ord('R'), ord('S'), ord('T'),\n",
    "                     ord('U'), ord('V'), ord('W'), ord('X'), ord('Y'), ord('Z')]\n",
    "    \n",
    "    return dim, intClassifications, intValidChars"
   ]
  },
  {
   "cell_type": "code",
   "execution_count": 7,
   "metadata": {},
   "outputs": [],
   "source": [
    "def get_cropped_image(imgThreshCopy, MASK_CONTOUR, original_resized):\n",
    "    npaContours, npaHierarchy = cv2.findContours(imgThreshCopy, cv2.RETR_TREE, cv2.CHAIN_APPROX_SIMPLE)\n",
    "    npaContours = sorted(npaContours, key=cv2.contourArea)\n",
    "    for npaContour in npaContours:                         # for each contour\n",
    "        if (cv2.contourArea(npaContour) > MASK_CONTOUR):          # if contour is big enough to consider\n",
    "            [intX, intY, intW, intH] = cv2.boundingRect(npaContour)         # get and break out bounding rect\n",
    "            #cv2.rectangle(original_resized, (intX, intY), (intX+intW,intY+intH), (0, 0, 255), 2)\n",
    "\n",
    "            perimeter = cv2.arcLength(npaContour, True)\n",
    "            approx = cv2.approxPolyDP(npaContour, 0.01*perimeter, True)\n",
    "\n",
    "            # Masking the part other than the number plate\n",
    "            mask = np.zeros(imgThreshCopy.shape,np.uint8)\n",
    "            new_image = cv2.drawContours(mask,[approx],0,255,-1,)\n",
    "            new_image = cv2.bitwise_and(original_resized,original_resized,mask=mask)\n",
    "            #resized_plate = cv2.resize(new_image,(RESIZED_IMAGE_WIDTH,RESIZED_IMAGE_HEIGHT))\n",
    "            #print(resized_plate.shape)                # (80, 200)\n",
    "            \n",
    "            # Now crop\n",
    "            (x, y) = np.where(mask == 255)\n",
    "            (topx, topy) = (np.min(x), np.min(y))\n",
    "            (bottomx, bottomy) = (np.max(x), np.max(y))\n",
    "            cropped = original_resized[topx:bottomx+1, topy:bottomy+1]\n",
    "            #cv2.imwrite(\"cropped_image.png\", cropped)\n",
    "            #time.sleep(0.1)\n",
    "            #cv2.imshow(\"new_image\", cropped)\n",
    "            #cv2.waitKey(0)                             # wait for user key press\n",
    "            return cropped"
   ]
  },
  {
   "cell_type": "code",
   "execution_count": 8,
   "metadata": {},
   "outputs": [],
   "source": [
    "def get_contours(imgThreshCopy, MIN_CONTOUR_AREA, MAX_CONTOUR_AREA, original_resized):\n",
    "    npaContours, npaHierarchy = cv2.findContours(imgThreshCopy, cv2.RETR_LIST, cv2.CHAIN_APPROX_SIMPLE)\n",
    "    #npaContours = sorted(npaContours, key=cv2.contourArea, reverse=True)\n",
    "    #npaContours = sorted(npaContours, key=lambda ctr: cv2.boundingRect(ctr)[0] + cv2.boundingRect(ctr)[1] * imgThreshCopy.shape[0])\n",
    "    \n",
    "    for npaContour in npaContours:                         # for each contour\n",
    "        if (cv2.contourArea(npaContour) > MIN_CONTOUR_AREA and cv2.contourArea(npaContour) < MAX_CONTOUR_AREA):          # if contour is big enough to consider\n",
    "            #original_resized = cv2.drawContours(original_resized, npaContour, -1, (0,255,0), 3)\n",
    "            [intX, intY, intW, intH] = cv2.boundingRect(npaContour)         # get and break out bounding rect\n",
    "            cv2.rectangle(original_resized, (intX, intY), (intX+intW,intY+intH), (0, 255, 0), 2)\n",
    "\n",
    "            perimeter = cv2.arcLength(npaContour, True)\n",
    "            approx = cv2.approxPolyDP(npaContour, 0.01*perimeter, True)\n",
    "\n",
    "            # Masking the part other than the number plate\n",
    "            #mask = np.zeros(imgThreshCopy.shape,np.uint8)\n",
    "            #new_image = cv2.drawContours(mask,[approx],0,255,-1,)\n",
    "            #new_image = cv2.bitwise_and(original_resized,original_resized,mask=mask)\n",
    "            #resized_plate = cv2.resize(new_image,(RESIZED_IMAGE_WIDTH,RESIZED_IMAGE_HEIGHT))\n",
    "            #print(resized_plate.shape)                # (80, 200)\n",
    "            cv2.imshow(\"new_image\", original_resized)\n",
    "            cv2.waitKey(0)                             # wait for user key press\n",
    "                \n",
    "    return 1"
   ]
  },
  {
   "cell_type": "code",
   "execution_count": 9,
   "metadata": {},
   "outputs": [],
   "source": [
    "for image in images:\n",
    "    original_image = get_image(image)\n",
    "    thresh_image = preprocessing(original_image)\n",
    "    imgThreshCopy = thresh_image.copy()        # make a copy of the thresh image, this in necessary b/c findContours modifies the image\n",
    "    #plt.imshow(imgThreshCopy,'gray')\n",
    "    \n",
    "    dim, intClassifications, intValidChars = initialize_params(RESIZED_IMAGE_WIDTH, RESIZED_IMAGE_HEIGHT)\n",
    "    \n",
    "    imgThreshCopy = cv2.resize(imgThreshCopy,dim)\n",
    "    original_resized = cv2.resize(original_image,dim)       # original color image, resized version\n",
    "    \n",
    "    cropped_image = get_cropped_image(imgThreshCopy, MASK_CONTOUR, original_resized)\n",
    "    #cropped_image = cv2.imread(\"cropped_image.png\")\n",
    "    thresh_image = preprocessing(cropped_image)\n",
    "    imgThreshCopy = thresh_image.copy()\n",
    "    masked_license_plate = get_contours(imgThreshCopy, MIN_CONTOUR_AREA, MAX_CONTOUR_AREA, cropped_image)"
   ]
  },
  {
   "cell_type": "code",
   "execution_count": null,
   "metadata": {},
   "outputs": [],
   "source": []
  }
 ],
 "metadata": {
  "kernelspec": {
   "display_name": "Python 3",
   "language": "python",
   "name": "python3"
  },
  "language_info": {
   "codemirror_mode": {
    "name": "ipython",
    "version": 3
   },
   "file_extension": ".py",
   "mimetype": "text/x-python",
   "name": "python",
   "nbconvert_exporter": "python",
   "pygments_lexer": "ipython3",
   "version": "3.7.4"
  }
 },
 "nbformat": 4,
 "nbformat_minor": 4
}
